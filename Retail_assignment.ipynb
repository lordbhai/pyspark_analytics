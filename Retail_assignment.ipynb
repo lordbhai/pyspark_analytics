{
  "nbformat": 4,
  "nbformat_minor": 0,
  "metadata": {
    "colab": {
      "provenance": []
    },
    "kernelspec": {
      "name": "python3",
      "display_name": "Python 3"
    },
    "language_info": {
      "name": "python"
    }
  },
  "cells": [
    {
      "cell_type": "markdown",
      "source": [
        "# Retail Store Assignment"
      ],
      "metadata": {
        "id": "Fx8wEfdm1awH"
      }
    },
    {
      "cell_type": "markdown",
      "source": [
        "Plan  -\n",
        "1. GO through the datasets and create schema for the staging tables\n",
        "2. Create pipelines for incremental loads of the staging\n",
        "3. Create a OBT Data Model for the next step\n",
        "4. Create the Dashboard Design\n",
        "5. Dashboard - Page 1 - Glossary; Page 2 - High Level KPIs and Page 3 - Deepdive friendly"
      ],
      "metadata": {
        "id": "7YmEHABC1fcO"
      }
    },
    {
      "cell_type": "code",
      "execution_count": null,
      "metadata": {
        "id": "BQEZsDtm1WtI"
      },
      "outputs": [],
      "source": []
    },
    {
      "cell_type": "markdown",
      "source": [
        "## Boiler Plate Code"
      ],
      "metadata": {
        "id": "9Jm377RK1mnv"
      }
    },
    {
      "cell_type": "code",
      "execution_count": null,
      "metadata": {
        "id": "13A1-zfZ-1jt"
      },
      "outputs": [],
      "source": [
        "# Import PySpark\n",
        "from pyspark.sql import SparkSession\n",
        "from pyspark.sql.functions import *\n",
        "from pyspark.sql.window import Window\n"
      ]
    },
    {
      "cell_type": "code",
      "source": [
        "# Create SparkSession\n",
        "spark = SparkSession \\\n",
        "    .builder \\\n",
        "    .master('local[*]') \\\n",
        "    .appName(\"kcc_assignment\") \\\n",
        "    .config(\"spark.driver.memory\", \"4g\") \\\n",
        "    .enableHiveSupport() \\\n",
        "    .getOrCreate()"
      ],
      "metadata": {
        "id": "Kjki8Tj_CpLd"
      },
      "execution_count": null,
      "outputs": []
    },
    {
      "cell_type": "code",
      "source": [
        "#loading the data\n",
        "df_sales = spark.read\\\n",
        "    .format(\"csv\")\\\n",
        "    .option(\"inferSchema\",\"true\")\\\n",
        "    .option(\"header\",\"true\")\\\n",
        "    .option(\"delimiter\",\",\")\\\n",
        "    .load(\"/content/Sales_Data.csv\");\n",
        "\n",
        "df_product = spark.read\\\n",
        "    .format(\"csv\")\\\n",
        "    .option(\"inferSchema\",\"true\")\\\n",
        "    .option(\"header\",\"true\")\\\n",
        "    .option(\"delimiter\",\",\")\\\n",
        "    .load(\"/content/Product_Data.csv\");\n",
        "\n",
        "df_store = spark.read\\\n",
        "    .format(\"csv\")\\\n",
        "    .option(\"inferSchema\",\"true\")\\\n",
        "    .option(\"header\",\"true\")\\\n",
        "    .option(\"delimiter\",\",\")\\\n",
        "    .load(\"/content/Store_Data.csv\");"
      ],
      "metadata": {
        "id": "FiSUEnrY-_6l"
      },
      "execution_count": null,
      "outputs": []
    },
    {
      "cell_type": "code",
      "source": [
        "#renaming the columns for ease of use and maintainging naming standards\n",
        "\n",
        "def rename_columns(df):\n",
        "    old_names = df.schema.names\n",
        "    new_names = [col_name.lower().replace(' ', '_') for col_name in old_names]\n",
        "    for old_name, new_name in zip(old_names, new_names):\n",
        "        df = df.withColumnRenamed(old_name, new_name)\n",
        "    return df\n",
        "\n",
        "df_sales = rename_columns(df_sales)\n",
        "df_product = rename_columns(df_product)\n",
        "df_store = rename_columns(df_store)"
      ],
      "metadata": {
        "id": "4zsczoWy4hrG"
      },
      "execution_count": null,
      "outputs": []
    },
    {
      "cell_type": "code",
      "source": [
        "# Set the legacy time parser policy to handle the 'yy' format\n",
        "#spark.conf.set(\"spark.sql.legacy.timeParserPolicy\", \"LEGACY\")\n",
        "\n",
        "\n",
        "df_sales = df_sales.withColumn(\"transaction_date\",to_date(\"transaction_date\",\"M/dd/yy\"))\n"
      ],
      "metadata": {
        "id": "7cQKeo5JKzsT"
      },
      "execution_count": null,
      "outputs": []
    },
    {
      "cell_type": "markdown",
      "source": [
        "## new paragraph\n"
      ],
      "metadata": {
        "id": "y8-ToLdUXlPD"
      }
    },
    {
      "cell_type": "code",
      "source": [
        "df_sales = df_sales.drop(\"transaction_date_new\")"
      ],
      "metadata": {
        "id": "IRr6EM2FLCNq"
      },
      "execution_count": null,
      "outputs": []
    },
    {
      "cell_type": "markdown",
      "source": [
        "For Sales Dataset - Do the EDA to Figure out the Primary Key and other things\n"
      ],
      "metadata": {
        "id": "USSIYUCy4Bnm"
      }
    },
    {
      "cell_type": "code",
      "source": [
        "# Checking if there are any duplicates in txn id level data\n",
        "df_sales.groupBy(\"transaction_id\").agg(count(\"*\").alias(\"count\")).where(col(\"count\") > 1).agg(count(\"*\")).show()"
      ],
      "metadata": {
        "colab": {
          "base_uri": "https://localhost:8080/"
        },
        "id": "KRCOp2dG3NY4",
        "outputId": "cfc73899-90ac-49ec-ae03-06913e3f7129"
      },
      "execution_count": null,
      "outputs": [
        {
          "output_type": "stream",
          "name": "stdout",
          "text": [
            "+--------+\n",
            "|count(1)|\n",
            "+--------+\n",
            "|     115|\n",
            "+--------+\n",
            "\n"
          ]
        }
      ]
    },
    {
      "cell_type": "code",
      "source": [
        "null_check_df = df_sales.filter(df_sales[\"transaction_id\"].isNull())\n",
        "null_check_df.show()\n",
        "# no nulls at transaction level"
      ],
      "metadata": {
        "colab": {
          "base_uri": "https://localhost:8080/"
        },
        "id": "P6RsQ4iE59Wd",
        "outputId": "5adc3086-1842-4207-f45b-086a73f6426f"
      },
      "execution_count": null,
      "outputs": [
        {
          "output_type": "stream",
          "name": "stdout",
          "text": [
            "+--------------+-----------+----------+-------------+--------------+----------------+--------------+--------------+--------+\n",
            "|transaction_id|customer_id|product_id|quantity_sold|price_per_unit|transaction_date|salesperson_id|payment_method|store_id|\n",
            "+--------------+-----------+----------+-------------+--------------+----------------+--------------+--------------+--------+\n",
            "+--------------+-----------+----------+-------------+--------------+----------------+--------------+--------------+--------+\n",
            "\n"
          ]
        }
      ]
    },
    {
      "cell_type": "code",
      "source": [
        "# filter the data with duplicates in transaction id\n",
        "df_sales_dedup = df_sales.dropDuplicates([\"transaction_id\"])"
      ],
      "metadata": {
        "id": "ylQLrQIc6atg"
      },
      "execution_count": null,
      "outputs": []
    },
    {
      "cell_type": "code",
      "source": [
        "df_sales_dedup.agg(count(\"*\").alias(\"count\")).show()"
      ],
      "metadata": {
        "colab": {
          "base_uri": "https://localhost:8080/"
        },
        "id": "5m2iXmj46vmr",
        "outputId": "7c06c2b4-ee93-4af7-b3f1-6bd4901562e5"
      },
      "execution_count": null,
      "outputs": [
        {
          "output_type": "stream",
          "name": "stdout",
          "text": [
            "+-----+\n",
            "|count|\n",
            "+-----+\n",
            "|30000|\n",
            "+-----+\n",
            "\n"
          ]
        }
      ]
    },
    {
      "cell_type": "code",
      "source": [
        "df_sales_dedup.show(5)"
      ],
      "metadata": {
        "colab": {
          "base_uri": "https://localhost:8080/"
        },
        "id": "oslHJ56G6yzl",
        "outputId": "03222f0b-4713-4476-d15e-bce2addf5e02"
      },
      "execution_count": null,
      "outputs": [
        {
          "output_type": "stream",
          "name": "stdout",
          "text": [
            "+--------------+-----------+----------+-------------+--------------+----------------+--------------+--------------+--------+\n",
            "|transaction_id|customer_id|product_id|quantity_sold|price_per_unit|transaction_date|salesperson_id|payment_method|store_id|\n",
            "+--------------+-----------+----------+-------------+--------------+----------------+--------------+--------------+--------+\n",
            "|       TXN0001|      C1175|  PROD2089|           12|          98.8|        11/21/23|         SP059| Bank Transfer|    SI16|\n",
            "|       TXN0002|      C1213|  PROD1359|            2|        168.66|        11/15/23|         SP012|         Check|    SI06|\n",
            "|       TXN0003|      C1212|  PROD1263|           14|        413.96|         9/18/23|         SP086| Bank Transfer|    SI18|\n",
            "|       TXN0004|      C1266|  PROD0423|            7|        417.73|         10/7/23|         SP013|         Check|    SI11|\n",
            "|       TXN0005|      C1185|  PROD0382|            7|        450.67|         10/4/23|         SP052| Bank Transfer|    SI09|\n",
            "+--------------+-----------+----------+-------------+--------------+----------------+--------------+--------------+--------+\n",
            "only showing top 5 rows\n",
            "\n"
          ]
        }
      ]
    },
    {
      "cell_type": "code",
      "source": [
        "df_duplicates = df_sales.withColumn(\"rnk\", row_number().\\\n",
        "                    over(Window.partitionBy(\"transaction_id\").orderBy(\"transaction_date\"))).\\\n",
        "                    where(col(\"rnk\") > 1).\\\n",
        "                    select(\"transaction_id\")\n"
      ],
      "metadata": {
        "id": "t7EoUeiD7FVP"
      },
      "execution_count": null,
      "outputs": []
    },
    {
      "cell_type": "code",
      "source": [
        "df_dup_rows = df_sales.join(df_duplicates, on=\"transaction_id\", how=\"inner\")"
      ],
      "metadata": {
        "id": "Z3-OQPxI7WhA"
      },
      "execution_count": null,
      "outputs": []
    },
    {
      "cell_type": "code",
      "source": [
        "df_dup_rows.orderBy(\"transaction_id\").show()"
      ],
      "metadata": {
        "colab": {
          "base_uri": "https://localhost:8080/"
        },
        "id": "zw31fRpO8JoH",
        "outputId": "505b4d12-e573-45bb-f97e-860e27264f07"
      },
      "execution_count": null,
      "outputs": [
        {
          "output_type": "stream",
          "name": "stdout",
          "text": [
            "+--------------+-----------+----------+-------------+--------------+----------------+--------------+--------------+--------+\n",
            "|transaction_id|customer_id|product_id|quantity_sold|price_per_unit|transaction_date|salesperson_id|payment_method|store_id|\n",
            "+--------------+-----------+----------+-------------+--------------+----------------+--------------+--------------+--------+\n",
            "|       TXN0948|      C1011|  PROD2320|           17|        161.68|        12/24/23|         SP038|         Check|    SI06|\n",
            "|       TXN0948|      C1011|  PROD2320|           17|        161.68|        12/24/23|         SP038|         Check|    SI06|\n",
            "|       TXN0949|      C1192|  PROD0696|            3|         86.81|         10/7/23|         SP031|          Cash|    SI19|\n",
            "|       TXN0949|      C1192|  PROD0696|            3|         86.81|         10/7/23|         SP031|          Cash|    SI19|\n",
            "|       TXN0950|      C1284|  PROD2188|           12|        413.28|         12/5/23|         SP083|          Cash|    SI14|\n",
            "|       TXN0950|      C1284|  PROD2188|           12|        413.28|         12/5/23|         SP083|          Cash|    SI14|\n",
            "|       TXN0951|      C1291|  PROD1193|           14|        187.03|        10/13/23|         SP050| Bank Transfer|    SI08|\n",
            "|       TXN0951|      C1291|  PROD1193|           14|        187.03|        10/13/23|         SP050| Bank Transfer|    SI08|\n",
            "|       TXN0952|      C1228|  PROD1934|           19|        210.56|         10/5/23|         SP057|   Credit Card|    SI18|\n",
            "|       TXN0952|      C1228|  PROD1934|           19|        210.56|         10/5/23|         SP057|   Credit Card|    SI18|\n",
            "|       TXN0953|      C1124|  PROD1882|           20|        296.75|        12/17/23|         SP053|          Cash|    SI15|\n",
            "|       TXN0953|      C1124|  PROD1882|           20|        296.75|        12/17/23|         SP053|          Cash|    SI15|\n",
            "|       TXN0954|      C1226|  PROD2638|            5|        365.22|         10/3/23|         SP087| Bank Transfer|    SI03|\n",
            "|       TXN0954|      C1226|  PROD2638|            5|        365.22|         10/3/23|         SP087| Bank Transfer|    SI03|\n",
            "|       TXN1581|      C1092|  PROD2908|            3|         64.33|        11/12/23|         SP042|   Credit Card|    SI05|\n",
            "|       TXN1581|      C1092|  PROD2908|            3|         64.33|        11/12/23|         SP042|   Credit Card|    SI05|\n",
            "|       TXN1582|      C1178|  PROD0393|            6|        106.45|         9/21/23|         SP047|   Credit Card|    SI10|\n",
            "|       TXN1582|      C1178|  PROD0393|            6|        106.45|         9/21/23|         SP047|   Credit Card|    SI10|\n",
            "|       TXN1583|      C1206|  PROD1805|            2|        138.88|        10/19/23|         SP058|         Check|    SI09|\n",
            "|       TXN1583|      C1206|  PROD1805|            2|        138.88|        10/19/23|         SP058|         Check|    SI09|\n",
            "+--------------+-----------+----------+-------------+--------------+----------------+--------------+--------------+--------+\n",
            "only showing top 20 rows\n",
            "\n"
          ]
        }
      ]
    },
    {
      "cell_type": "code",
      "source": [
        "df_dup_rows.count()"
      ],
      "metadata": {
        "colab": {
          "base_uri": "https://localhost:8080/"
        },
        "id": "oZEHTgKe8bDJ",
        "outputId": "108621b0-91f9-45d2-9b3d-123ec4fd67a0"
      },
      "execution_count": null,
      "outputs": [
        {
          "output_type": "execute_result",
          "data": {
            "text/plain": [
              "230"
            ]
          },
          "metadata": {},
          "execution_count": 36
        }
      ]
    },
    {
      "cell_type": "code",
      "source": [
        "df_dup_rows.dropDuplicates().count()"
      ],
      "metadata": {
        "colab": {
          "base_uri": "https://localhost:8080/"
        },
        "id": "LLwuujN_8tCD",
        "outputId": "269a183b-85a5-40ee-fe1a-ea7c82fd456f"
      },
      "execution_count": null,
      "outputs": [
        {
          "output_type": "execute_result",
          "data": {
            "text/plain": [
              "115"
            ]
          },
          "metadata": {},
          "execution_count": 39
        }
      ]
    },
    {
      "cell_type": "markdown",
      "source": [
        "Identified the above rows as the row level duplicates;\n",
        "A simple drop duplicates of transaction Id would work.\n",
        "But going with the approach of row number based filtering\n",
        "row_number on transaction ID , Desc order by transaction_date and filter by rnk = 1;\n",
        "\n",
        "\n",
        "---\n",
        "\n"
      ],
      "metadata": {
        "id": "OXPI4X6G9MIW"
      }
    },
    {
      "cell_type": "code",
      "source": [
        "df_sales.show(5)"
      ],
      "metadata": {
        "colab": {
          "base_uri": "https://localhost:8080/"
        },
        "id": "uN409-Q-HXxS",
        "outputId": "de409489-57bb-4239-d48e-452c9c7a8126"
      },
      "execution_count": null,
      "outputs": [
        {
          "output_type": "stream",
          "name": "stdout",
          "text": [
            "+----------------------+-------------------+------------------+---------------------+----------------------+------------------------+----------------------+----------------------+----------------+----+-----+\n",
            "|staging_transaction_id|staging_customer_id|staging_product_id|staging_quantity_sold|staging_price_per_unit|staging_transaction_date|staging_salesperson_id|staging_payment_method|staging_store_id|year|month|\n",
            "+----------------------+-------------------+------------------+---------------------+----------------------+------------------------+----------------------+----------------------+----------------+----+-----+\n",
            "|               TXN0001|              C1175|          PROD2089|                   12|                  98.8|                11/21/23|                 SP059|         Bank Transfer|            SI16|NULL| NULL|\n",
            "|               TXN0002|              C1213|          PROD1359|                    2|                168.66|                11/15/23|                 SP012|                 Check|            SI06|NULL| NULL|\n",
            "|               TXN0003|              C1212|          PROD1263|                   14|                413.96|                 9/18/23|                 SP086|         Bank Transfer|            SI18|NULL| NULL|\n",
            "|               TXN0004|              C1266|          PROD0423|                    7|                417.73|                 10/7/23|                 SP013|                 Check|            SI11|NULL| NULL|\n",
            "|               TXN0005|              C1185|          PROD0382|                    7|                450.67|                 10/4/23|                 SP052|         Bank Transfer|            SI09|NULL| NULL|\n",
            "+----------------------+-------------------+------------------+---------------------+----------------------+------------------------+----------------------+----------------------+----------------+----+-----+\n",
            "only showing top 5 rows\n",
            "\n"
          ]
        }
      ]
    },
    {
      "cell_type": "code",
      "source": [
        "# Set the legacy time parser policy to handle the 'yy' format\n",
        "spark.conf.set(\"spark.sql.legacy.timeParserPolicy\", \"LEGACY\")\n",
        "\n",
        "\n",
        "df_sales = df_sales.withColumn(\"transaction_date\",to_date(\"transaction_date\",\"M/dd/yy\"))\n"
      ],
      "metadata": {
        "id": "ouHSgBt2G-oD"
      },
      "execution_count": null,
      "outputs": []
    },
    {
      "cell_type": "code",
      "source": [
        "df_sales.show(5)"
      ],
      "metadata": {
        "colab": {
          "base_uri": "https://localhost:8080/"
        },
        "id": "QhUDHnILH3An",
        "outputId": "d93ad8cc-99dd-4164-83ab-1b25c9b4fbd9"
      },
      "execution_count": null,
      "outputs": [
        {
          "output_type": "stream",
          "name": "stdout",
          "text": [
            "+--------------+-----------+----------+-------------+--------------+----------------+--------------+--------------+--------+\n",
            "|transaction_id|customer_id|product_id|quantity_sold|price_per_unit|transaction_date|salesperson_id|payment_method|store_id|\n",
            "+--------------+-----------+----------+-------------+--------------+----------------+--------------+--------------+--------+\n",
            "|       TXN0001|      C1175|  PROD2089|           12|          98.8|      2023-01-21|         SP059| Bank Transfer|    SI16|\n",
            "|       TXN0002|      C1213|  PROD1359|            2|        168.66|      2023-01-15|         SP012|         Check|    SI06|\n",
            "|       TXN0003|      C1212|  PROD1263|           14|        413.96|      2023-01-18|         SP086| Bank Transfer|    SI18|\n",
            "|       TXN0004|      C1266|  PROD0423|            7|        417.73|      2023-01-07|         SP013|         Check|    SI11|\n",
            "|       TXN0005|      C1185|  PROD0382|            7|        450.67|      2023-01-04|         SP052| Bank Transfer|    SI09|\n",
            "+--------------+-----------+----------+-------------+--------------+----------------+--------------+--------------+--------+\n",
            "only showing top 5 rows\n",
            "\n"
          ]
        }
      ]
    },
    {
      "cell_type": "code",
      "source": [
        "df_sales = df_sales.withColumn(\"rnk\", row_number().\\\n",
        "                    over(Window.partitionBy(\"transaction_id\").orderBy(desc(\"transaction_date\")))).\\\n",
        "                    where(col(\"rnk\") == 1).\\\n",
        "                    drop(\"rnk\")"
      ],
      "metadata": {
        "id": "0iXcMJoC83cd"
      },
      "execution_count": null,
      "outputs": []
    },
    {
      "cell_type": "code",
      "source": [
        "df_sales.count()"
      ],
      "metadata": {
        "colab": {
          "base_uri": "https://localhost:8080/"
        },
        "id": "ghGLLk8p-yOw",
        "outputId": "bccc44f5-a6c1-48d5-b599-662d0e760292"
      },
      "execution_count": null,
      "outputs": [
        {
          "output_type": "execute_result",
          "data": {
            "text/plain": [
              "30000"
            ]
          },
          "metadata": {},
          "execution_count": 6
        }
      ]
    },
    {
      "cell_type": "code",
      "source": [
        "df_sales.columns"
      ],
      "metadata": {
        "colab": {
          "base_uri": "https://localhost:8080/"
        },
        "id": "9ummjGjt-0Vm",
        "outputId": "ee275485-94ea-4d60-be18-650546614c30"
      },
      "execution_count": null,
      "outputs": [
        {
          "output_type": "execute_result",
          "data": {
            "text/plain": [
              "['transaction_id',\n",
              " 'customer_id',\n",
              " 'product_id',\n",
              " 'quantity_sold',\n",
              " 'price_per_unit',\n",
              " 'transaction_date',\n",
              " 'salesperson_id',\n",
              " 'payment_method',\n",
              " 'store_id']"
            ]
          },
          "metadata": {},
          "execution_count": 44
        }
      ]
    },
    {
      "cell_type": "code",
      "source": [
        "spark.sql(\"DROP DATABASE IF EXISTS kcc_malls CASCADE;\")"
      ],
      "metadata": {
        "colab": {
          "base_uri": "https://localhost:8080/"
        },
        "id": "INy-xkP5_dBC",
        "outputId": "ff391fbd-423f-49a2-a3b1-1bc3be0b8225"
      },
      "execution_count": null,
      "outputs": [
        {
          "output_type": "execute_result",
          "data": {
            "text/plain": [
              "DataFrame[]"
            ]
          },
          "metadata": {},
          "execution_count": 45
        }
      ]
    },
    {
      "cell_type": "code",
      "source": [
        "spark.sql(\"CREATE DATABASE kcc_malls;\")"
      ],
      "metadata": {
        "colab": {
          "base_uri": "https://localhost:8080/"
        },
        "id": "tpIABUbGAaeE",
        "outputId": "2eadab5d-db1f-4e15-8e90-1df100549854"
      },
      "execution_count": null,
      "outputs": [
        {
          "output_type": "execute_result",
          "data": {
            "text/plain": [
              "DataFrame[]"
            ]
          },
          "metadata": {},
          "execution_count": 46
        }
      ]
    },
    {
      "cell_type": "code",
      "source": [
        "spark.sql(\"USE kcc_malls;\")"
      ],
      "metadata": {
        "colab": {
          "base_uri": "https://localhost:8080/"
        },
        "id": "gwP7ZNEIAgBE",
        "outputId": "6a0f1afc-08e2-42f1-cc14-e5da241dabc8"
      },
      "execution_count": null,
      "outputs": [
        {
          "output_type": "execute_result",
          "data": {
            "text/plain": [
              "DataFrame[]"
            ]
          },
          "metadata": {},
          "execution_count": 47
        }
      ]
    },
    {
      "cell_type": "code",
      "source": [
        "spark.sql(\"\"\"DROP TABLE IF EXISTS kcc_malls.sales_data;\"\"\");\n",
        "spark.sql(\"\"\"\n",
        "CREATE TABLE kcc_malls.sales_data\n",
        "(`transaction_id` STRING,\n",
        " `customer_id` STRING,\n",
        " `product_id` STRING,\n",
        " `quantity_sold` BIGINT,\n",
        " `price_per_unit` FLOAT,\n",
        " `transaction_date` DATE,\n",
        " `salesperson_id` STRING,\n",
        " `payment_method` STRING,\n",
        " `store_id` STRING)\n",
        " PARTITIONED BY (`year` int, `month` int)\n",
        " CLUSTERED BY (`transaction_id`) INTO 16 BUCKETS\n",
        " STORED AS PARQUET;\n",
        "\"\"\")\n",
        "\n"
      ],
      "metadata": {
        "colab": {
          "base_uri": "https://localhost:8080/"
        },
        "id": "0gilPGppAioG",
        "outputId": "5bf49e60-037f-4ef1-8f2f-c9b0d9e4598e"
      },
      "execution_count": null,
      "outputs": [
        {
          "output_type": "execute_result",
          "data": {
            "text/plain": [
              "DataFrame[]"
            ]
          },
          "metadata": {},
          "execution_count": 48
        }
      ]
    },
    {
      "cell_type": "code",
      "source": [
        "spark.sql(\"DESC kcc_malls.sales_data\").show()"
      ],
      "metadata": {
        "colab": {
          "base_uri": "https://localhost:8080/"
        },
        "id": "hPzlKBQ7CA3A",
        "outputId": "9344dee1-5cb8-472f-97b0-83f3f9871478"
      },
      "execution_count": null,
      "outputs": [
        {
          "output_type": "stream",
          "name": "stdout",
          "text": [
            "+--------------------+---------+-------+\n",
            "|            col_name|data_type|comment|\n",
            "+--------------------+---------+-------+\n",
            "|      transaction_id|   string|   NULL|\n",
            "|         customer_id|   string|   NULL|\n",
            "|          product_id|   string|   NULL|\n",
            "|       quantity_sold|   bigint|   NULL|\n",
            "|      price_per_unit|    float|   NULL|\n",
            "|    transaction_date|     date|   NULL|\n",
            "|      salesperson_id|   string|   NULL|\n",
            "|      payment_method|   string|   NULL|\n",
            "|            store_id|   string|   NULL|\n",
            "|                year|      int|   NULL|\n",
            "|               month|      int|   NULL|\n",
            "|# Partition Infor...|         |       |\n",
            "|          # col_name|data_type|comment|\n",
            "|                year|      int|   NULL|\n",
            "|               month|      int|   NULL|\n",
            "+--------------------+---------+-------+\n",
            "\n"
          ]
        }
      ]
    },
    {
      "cell_type": "code",
      "source": [
        "df_sales.createOrReplaceTempView(\"sales_data_staging\");"
      ],
      "metadata": {
        "id": "k-9_R4nHDKCY"
      },
      "execution_count": null,
      "outputs": []
    },
    {
      "cell_type": "code",
      "source": [
        "df_sales.columns"
      ],
      "metadata": {
        "colab": {
          "base_uri": "https://localhost:8080/"
        },
        "id": "BLzP6QsFED2w",
        "outputId": "15b4c9c2-4695-4498-bfd9-14bb6a291fb7"
      },
      "execution_count": null,
      "outputs": [
        {
          "output_type": "execute_result",
          "data": {
            "text/plain": [
              "['transaction_id',\n",
              " 'customer_id',\n",
              " 'product_id',\n",
              " 'quantity_sold',\n",
              " 'price_per_unit',\n",
              " 'transaction_date',\n",
              " 'salesperson_id',\n",
              " 'payment_method',\n",
              " 'store_id']"
            ]
          },
          "metadata": {},
          "execution_count": 14
        }
      ]
    },
    {
      "cell_type": "code",
      "source": [
        "spark.sql(\"\"\"\n",
        "MERGE INTO kcc_malls.sales_data main\n",
        "USING sales_data_staging staging\n",
        "ON main.transaction_id = staging.transaction_id\n",
        "AND main.year = year(staging.transaction_date)\n",
        "AND main.month = month(staging.transaction_date)\n",
        "WHEN MATCHED\n",
        "THEN UPDATE SET\n",
        "main.customer_id = staging.customer_id,\n",
        "main.product_id = staging.product_id,\n",
        "main.quantity_sold = staging.quantity_sold,\n",
        "main.price_per_unit = staging.price_per_unit,\n",
        "main.transaction_date = staging.transaction_date,\n",
        "main.salesperson_id = staging.salesperson_id,\n",
        "main.payment_method = staging.payment_method,\n",
        "main.store_id = staging.store_id\n",
        "WHEN NOT MATCHED\n",
        "THEN INSERT\n",
        "(\n",
        "transaction_id,\n",
        "customer_id,\n",
        "product_id,\n",
        "quantity_sold,\n",
        "price_per_unit,\n",
        "transaction_date,\n",
        "salesperson_id,\n",
        "payment_method,\n",
        "store_id,\n",
        "year,\n",
        "month\n",
        ")\n",
        " VALUES\n",
        "(\n",
        "staging.transaction_id,\n",
        "staging.customer_id,\n",
        "staging.product_id,\n",
        "staging.quantity_sold,\n",
        "staging.price_per_unit,\n",
        "staging.transaction_date,\n",
        "staging.salesperson_id,\n",
        "staging.payment_method,\n",
        "staging.store_id,\n",
        "year(staging.transaction_date),\n",
        "month(staging.transaction_date)\n",
        ")\n",
        ";\n",
        "\n",
        "\"\"\")\n"
      ],
      "metadata": {
        "colab": {
          "base_uri": "https://localhost:8080/",
          "height": 373
        },
        "id": "VERIWKmHDYm0",
        "outputId": "e48949e4-5438-49fb-80bd-2fc61b2b902f"
      },
      "execution_count": null,
      "outputs": [
        {
          "output_type": "error",
          "ename": "UnsupportedOperationException",
          "evalue": "MERGE INTO TABLE is not supported temporarily.",
          "traceback": [
            "\u001b[0;31m---------------------------------------------------------------------------\u001b[0m",
            "\u001b[0;31mUnsupportedOperationException\u001b[0m             Traceback (most recent call last)",
            "\u001b[0;32m<ipython-input-51-5ac0c77b230b>\u001b[0m in \u001b[0;36m<cell line: 1>\u001b[0;34m()\u001b[0m\n\u001b[0;32m----> 1\u001b[0;31m spark.sql(\"\"\"\n\u001b[0m\u001b[1;32m      2\u001b[0m \u001b[0mMERGE\u001b[0m \u001b[0mINTO\u001b[0m \u001b[0mkcc_malls\u001b[0m\u001b[0;34m.\u001b[0m\u001b[0msales_data\u001b[0m \u001b[0mmain\u001b[0m\u001b[0;34m\u001b[0m\u001b[0;34m\u001b[0m\u001b[0m\n\u001b[1;32m      3\u001b[0m \u001b[0mUSING\u001b[0m \u001b[0msales_data_staging\u001b[0m \u001b[0mstaging\u001b[0m\u001b[0;34m\u001b[0m\u001b[0;34m\u001b[0m\u001b[0m\n\u001b[1;32m      4\u001b[0m \u001b[0mON\u001b[0m \u001b[0mmain\u001b[0m\u001b[0;34m.\u001b[0m\u001b[0mtransaction_id\u001b[0m \u001b[0;34m=\u001b[0m \u001b[0mstaging\u001b[0m\u001b[0;34m.\u001b[0m\u001b[0mtransaction_id\u001b[0m\u001b[0;34m\u001b[0m\u001b[0;34m\u001b[0m\u001b[0m\n\u001b[1;32m      5\u001b[0m \u001b[0mAND\u001b[0m \u001b[0mmain\u001b[0m\u001b[0;34m.\u001b[0m\u001b[0myear\u001b[0m \u001b[0;34m=\u001b[0m \u001b[0myear\u001b[0m\u001b[0;34m(\u001b[0m\u001b[0mstaging\u001b[0m\u001b[0;34m.\u001b[0m\u001b[0mtransaction_date\u001b[0m\u001b[0;34m)\u001b[0m\u001b[0;34m\u001b[0m\u001b[0;34m\u001b[0m\u001b[0m\n",
            "\u001b[0;32m/usr/local/lib/python3.10/dist-packages/pyspark/sql/session.py\u001b[0m in \u001b[0;36msql\u001b[0;34m(self, sqlQuery, args, **kwargs)\u001b[0m\n\u001b[1;32m   1629\u001b[0m                     \u001b[0;34m[\u001b[0m\u001b[0m_to_java_column\u001b[0m\u001b[0;34m(\u001b[0m\u001b[0mlit\u001b[0m\u001b[0;34m(\u001b[0m\u001b[0mv\u001b[0m\u001b[0;34m)\u001b[0m\u001b[0;34m)\u001b[0m \u001b[0;32mfor\u001b[0m \u001b[0mv\u001b[0m \u001b[0;32min\u001b[0m \u001b[0;34m(\u001b[0m\u001b[0margs\u001b[0m \u001b[0;32mor\u001b[0m \u001b[0;34m[\u001b[0m\u001b[0;34m]\u001b[0m\u001b[0;34m)\u001b[0m\u001b[0;34m]\u001b[0m\u001b[0;34m\u001b[0m\u001b[0;34m\u001b[0m\u001b[0m\n\u001b[1;32m   1630\u001b[0m                 )\n\u001b[0;32m-> 1631\u001b[0;31m             \u001b[0;32mreturn\u001b[0m \u001b[0mDataFrame\u001b[0m\u001b[0;34m(\u001b[0m\u001b[0mself\u001b[0m\u001b[0;34m.\u001b[0m\u001b[0m_jsparkSession\u001b[0m\u001b[0;34m.\u001b[0m\u001b[0msql\u001b[0m\u001b[0;34m(\u001b[0m\u001b[0msqlQuery\u001b[0m\u001b[0;34m,\u001b[0m \u001b[0mlitArgs\u001b[0m\u001b[0;34m)\u001b[0m\u001b[0;34m,\u001b[0m \u001b[0mself\u001b[0m\u001b[0;34m)\u001b[0m\u001b[0;34m\u001b[0m\u001b[0;34m\u001b[0m\u001b[0m\n\u001b[0m\u001b[1;32m   1632\u001b[0m         \u001b[0;32mfinally\u001b[0m\u001b[0;34m:\u001b[0m\u001b[0;34m\u001b[0m\u001b[0;34m\u001b[0m\u001b[0m\n\u001b[1;32m   1633\u001b[0m             \u001b[0;32mif\u001b[0m \u001b[0mlen\u001b[0m\u001b[0;34m(\u001b[0m\u001b[0mkwargs\u001b[0m\u001b[0;34m)\u001b[0m \u001b[0;34m>\u001b[0m \u001b[0;36m0\u001b[0m\u001b[0;34m:\u001b[0m\u001b[0;34m\u001b[0m\u001b[0;34m\u001b[0m\u001b[0m\n",
            "\u001b[0;32m/usr/local/lib/python3.10/dist-packages/py4j/java_gateway.py\u001b[0m in \u001b[0;36m__call__\u001b[0;34m(self, *args)\u001b[0m\n\u001b[1;32m   1320\u001b[0m \u001b[0;34m\u001b[0m\u001b[0m\n\u001b[1;32m   1321\u001b[0m         \u001b[0manswer\u001b[0m \u001b[0;34m=\u001b[0m \u001b[0mself\u001b[0m\u001b[0;34m.\u001b[0m\u001b[0mgateway_client\u001b[0m\u001b[0;34m.\u001b[0m\u001b[0msend_command\u001b[0m\u001b[0;34m(\u001b[0m\u001b[0mcommand\u001b[0m\u001b[0;34m)\u001b[0m\u001b[0;34m\u001b[0m\u001b[0;34m\u001b[0m\u001b[0m\n\u001b[0;32m-> 1322\u001b[0;31m         return_value = get_return_value(\n\u001b[0m\u001b[1;32m   1323\u001b[0m             answer, self.gateway_client, self.target_id, self.name)\n\u001b[1;32m   1324\u001b[0m \u001b[0;34m\u001b[0m\u001b[0m\n",
            "\u001b[0;32m/usr/local/lib/python3.10/dist-packages/pyspark/errors/exceptions/captured.py\u001b[0m in \u001b[0;36mdeco\u001b[0;34m(*a, **kw)\u001b[0m\n\u001b[1;32m    183\u001b[0m                 \u001b[0;31m# Hide where the exception came from that shows a non-Pythonic\u001b[0m\u001b[0;34m\u001b[0m\u001b[0;34m\u001b[0m\u001b[0m\n\u001b[1;32m    184\u001b[0m                 \u001b[0;31m# JVM exception message.\u001b[0m\u001b[0;34m\u001b[0m\u001b[0;34m\u001b[0m\u001b[0m\n\u001b[0;32m--> 185\u001b[0;31m                 \u001b[0;32mraise\u001b[0m \u001b[0mconverted\u001b[0m \u001b[0;32mfrom\u001b[0m \u001b[0;32mNone\u001b[0m\u001b[0;34m\u001b[0m\u001b[0;34m\u001b[0m\u001b[0m\n\u001b[0m\u001b[1;32m    186\u001b[0m             \u001b[0;32melse\u001b[0m\u001b[0;34m:\u001b[0m\u001b[0;34m\u001b[0m\u001b[0;34m\u001b[0m\u001b[0m\n\u001b[1;32m    187\u001b[0m                 \u001b[0;32mraise\u001b[0m\u001b[0;34m\u001b[0m\u001b[0;34m\u001b[0m\u001b[0m\n",
            "\u001b[0;31mUnsupportedOperationException\u001b[0m: MERGE INTO TABLE is not supported temporarily."
          ]
        }
      ]
    },
    {
      "cell_type": "code",
      "source": [
        "from pyspark.sql.functions import year, month\n",
        "\n",
        "# Rename columns in df_sales to avoid ambiguity during join\n",
        "df_sales = df_sales.withColumnRenamed(\"transaction_id\", \"staging_transaction_id\") \\\n",
        "                   .withColumnRenamed(\"customer_id\", \"staging_customer_id\") \\\n",
        "                   .withColumnRenamed(\"product_id\", \"staging_product_id\") \\\n",
        "                   .withColumnRenamed(\"quantity_sold\", \"staging_quantity_sold\") \\\n",
        "                   .withColumnRenamed(\"price_per_unit\", \"staging_price_per_unit\") \\\n",
        "                   .withColumnRenamed(\"transaction_date\", \"staging_transaction_date\") \\\n",
        "                   .withColumnRenamed(\"salesperson_id\", \"staging_salesperson_id\") \\\n",
        "                   .withColumnRenamed(\"payment_method\", \"staging_payment_method\") \\\n",
        "                   .withColumnRenamed(\"store_id\", \"staging_store_id\")\n",
        "\n",
        "# Add year and month columns to df_sales\n",
        "df_sales = df_sales.withColumn(\"year\", year(df_sales[\"staging_transaction_date\"])) \\\n",
        "                   .withColumn(\"month\", month(df_sales[\"staging_transaction_date\"]))\n",
        "\n",
        "# Read existing data from the target table\n",
        "df_main = spark.table(\"kcc_malls.sales_data\")\n",
        "\n",
        "# Perform a left join to identify matching and non-matching records\n",
        "joined_df = df_main.join(df_sales,\n",
        "                         (df_main[\"transaction_id\"] == df_sales[\"staging_transaction_id\"]) &\n",
        "                         (df_main[\"year\"] == df_sales[\"year\"]) &\n",
        "                         (df_main[\"month\"] == df_sales[\"month\"]),\n",
        "                         \"outer\")\n",
        "\n",
        "# Update matching records\n",
        "updated_df = joined_df.filter(df_sales[\"staging_transaction_id\"].isNotNull()) \\\n",
        "                      .select(df_sales[\"staging_transaction_id\"].alias(\"transaction_id\"),\n",
        "                              df_sales[\"staging_customer_id\"].alias(\"customer_id\"),\n",
        "                              df_sales[\"staging_product_id\"].alias(\"product_id\"),\n",
        "                              df_sales[\"staging_quantity_sold\"].alias(\"quantity_sold\"),\n",
        "                              df_sales[\"staging_price_per_unit\"].alias(\"price_per_unit\"),\n",
        "                              df_sales[\"staging_transaction_date\"].alias(\"transaction_date\"),\n",
        "                              df_sales[\"staging_salesperson_id\"].alias(\"salesperson_id\"),\n",
        "                              df_sales[\"staging_payment_method\"].alias(\"payment_method\"),\n",
        "                              df_sales[\"staging_store_id\"].alias(\"store_id\"),\n",
        "                              df_sales[\"year\"],\n",
        "                              df_sales[\"month\"])\n",
        "\n",
        "# Insert new records\n",
        "new_df = joined_df.filter(df_main[\"transaction_id\"].isNull()) \\\n",
        "                  .select(df_sales[\"staging_transaction_id\"].alias(\"transaction_id\"),\n",
        "                              df_sales[\"staging_customer_id\"].alias(\"customer_id\"),\n",
        "                              df_sales[\"staging_product_id\"].alias(\"product_id\"),\n",
        "                              df_sales[\"staging_quantity_sold\"].alias(\"quantity_sold\"),\n",
        "                              df_sales[\"staging_price_per_unit\"].alias(\"price_per_unit\"),\n",
        "                              df_sales[\"staging_transaction_date\"].alias(\"transaction_date\"),\n",
        "                              df_sales[\"staging_salesperson_id\"].alias(\"salesperson_id\"),\n",
        "                              df_sales[\"staging_payment_method\"].alias(\"payment_method\"),\n",
        "                              df_sales[\"staging_store_id\"].alias(\"store_id\"),\n",
        "                              df_sales[\"year\"],\n",
        "                              df_sales[\"month\"])\n",
        "\n",
        "\n",
        "#old unchanged records\n",
        "old_df = joined_df.filter(df_sales[\"staging_transaction_id\"].isNull()).\\\n",
        "                          select(df_main[\"transaction_id\"],\n",
        "                          df_main[\"customer_id\"],\n",
        "                          df_main[\"product_id\"],\n",
        "                          df_main[\"quantity_sold\"],\n",
        "                          df_main[\"price_per_unit\"],\n",
        "                          df_main[\"transaction_date\"],\n",
        "                          df_main[\"salesperson_id\"],\n",
        "                          df_main[\"payment_method\"],\n",
        "                          df_main[\"store_id\"],\n",
        "                          df_main[\"year\"],\n",
        "                          df_main[\"month\"])\n",
        "# Union updated and new records\n",
        "final_df = updated_df.union(new_df).union(old_df)\n",
        "\n",
        "# Overwrite the original table with the final DataFrame\n",
        "final_df.write.mode(\"overwrite\").insertInto(\"kcc_malls.sales_data\")"
      ],
      "metadata": {
        "id": "U9KI2HB2EOoD"
      },
      "execution_count": null,
      "outputs": []
    },
    {
      "cell_type": "markdown",
      "source": [
        "Made a mistake while reading the data\n",
        "\n",
        "Date is in some random shit format\n",
        "use yyyy-mm-dd format"
      ],
      "metadata": {
        "id": "NPhWskQCF6E8"
      }
    },
    {
      "cell_type": "code",
      "source": [
        "df_sales.select([\"transaction_date\"]).show(5)"
      ],
      "metadata": {
        "colab": {
          "base_uri": "https://localhost:8080/"
        },
        "id": "vbg2sNIQFumJ",
        "outputId": "bcb0a4dd-7045-4ea6-c19a-cc99d4c65dc6"
      },
      "execution_count": null,
      "outputs": [
        {
          "output_type": "stream",
          "name": "stdout",
          "text": [
            "+----------------+\n",
            "|transaction_date|\n",
            "+----------------+\n",
            "|      2023-01-21|\n",
            "|      2023-01-15|\n",
            "|      2023-01-18|\n",
            "|      2023-01-07|\n",
            "|      2023-01-04|\n",
            "+----------------+\n",
            "only showing top 5 rows\n",
            "\n"
          ]
        }
      ]
    },
    {
      "cell_type": "code",
      "source": [
        "df_dates.show(5)"
      ],
      "metadata": {
        "colab": {
          "base_uri": "https://localhost:8080/",
          "height": 141
        },
        "id": "7lkCMJ2OKU4w",
        "outputId": "b1875c44-6c21-4bcf-a2de-4f88d6263178"
      },
      "execution_count": null,
      "outputs": [
        {
          "output_type": "error",
          "ename": "TypeError",
          "evalue": "'Column' object is not callable",
          "traceback": [
            "\u001b[0;31m---------------------------------------------------------------------------\u001b[0m",
            "\u001b[0;31mTypeError\u001b[0m                                 Traceback (most recent call last)",
            "\u001b[0;32m<ipython-input-32-306b9560e72a>\u001b[0m in \u001b[0;36m<cell line: 1>\u001b[0;34m()\u001b[0m\n\u001b[0;32m----> 1\u001b[0;31m \u001b[0mdf_dates\u001b[0m\u001b[0;34m.\u001b[0m\u001b[0mshow\u001b[0m\u001b[0;34m(\u001b[0m\u001b[0;36m5\u001b[0m\u001b[0;34m)\u001b[0m\u001b[0;34m\u001b[0m\u001b[0;34m\u001b[0m\u001b[0m\n\u001b[0m",
            "\u001b[0;31mTypeError\u001b[0m: 'Column' object is not callable"
          ]
        }
      ]
    },
    {
      "cell_type": "code",
      "source": [
        "spark.sql(\"SELECT * FROM kcc_malls.sales_data\").show(5)"
      ],
      "metadata": {
        "colab": {
          "base_uri": "https://localhost:8080/"
        },
        "id": "Njs3qArDKXU9",
        "outputId": "8607f147-2f49-480b-ed76-290093608ef0"
      },
      "execution_count": null,
      "outputs": [
        {
          "output_type": "stream",
          "name": "stdout",
          "text": [
            "+--------------+-----------+----------+-------------+--------------+----------------+--------------+--------------+--------+----+-----+\n",
            "|transaction_id|customer_id|product_id|quantity_sold|price_per_unit|transaction_date|salesperson_id|payment_method|store_id|year|month|\n",
            "+--------------+-----------+----------+-------------+--------------+----------------+--------------+--------------+--------+----+-----+\n",
            "|       TXN0004|      C1266|  PROD0423|            7|        417.73|      2023-10-07|         SP013|         Check|    SI11|2023|   10|\n",
            "|       TXN0005|      C1185|  PROD0382|            7|        450.67|      2023-10-04|         SP052| Bank Transfer|    SI09|2023|   10|\n",
            "|       TXN0012|      C1265|  PROD1153|           18|        138.57|      2023-10-17|         SP033|          Cash|    SI06|2023|   10|\n",
            "|       TXN0014|      C1249|  PROD0939|            4|        244.38|      2023-10-22|         SP002|          Cash|    SI19|2023|   10|\n",
            "|       TXN0015|      C1077|  PROD2421|           19|          79.6|      2023-10-22|         SP057|          Cash|    SI09|2023|   10|\n",
            "+--------------+-----------+----------+-------------+--------------+----------------+--------------+--------------+--------+----+-----+\n",
            "only showing top 5 rows\n",
            "\n"
          ]
        }
      ]
    },
    {
      "cell_type": "markdown",
      "source": [
        "# Product Dimension\n",
        "\\"
      ],
      "metadata": {
        "id": "mOnFDdOCYRKz"
      }
    },
    {
      "cell_type": "code",
      "source": [
        "df_product.count()"
      ],
      "metadata": {
        "colab": {
          "base_uri": "https://localhost:8080/"
        },
        "id": "pMlyosItMePr",
        "outputId": "6cf68f85-0f8e-4664-89fb-c02771bf717a"
      },
      "execution_count": null,
      "outputs": [
        {
          "output_type": "execute_result",
          "data": {
            "text/plain": [
              "3010"
            ]
          },
          "metadata": {},
          "execution_count": 61
        }
      ]
    },
    {
      "cell_type": "code",
      "source": [
        "df_product.show(5)"
      ],
      "metadata": {
        "colab": {
          "base_uri": "https://localhost:8080/"
        },
        "id": "DwYosJuxYxZr",
        "outputId": "377b4b09-69df-43ce-8ff2-b99bbbba7adf"
      },
      "execution_count": null,
      "outputs": [
        {
          "output_type": "stream",
          "name": "stdout",
          "text": [
            "+----------+------------+----------------+-----------+----------+----------+\n",
            "|product_id|product_name|product_category|supplier_id|orig_price|date_added|\n",
            "+----------+------------+----------------+-----------+----------+----------+\n",
            "|  PROD0001|        Lamp|       Furniture|    SUP2175|    408.78|   4/17/22|\n",
            "|  PROD0002|    Wardrobe|        Clothing|    SUP2727|    881.32|   1/23/21|\n",
            "|  PROD0003|      Camera|     Accessories|    SUP1802|    131.51|   7/29/20|\n",
            "|  PROD0004|        NULL|     Kitchenware|    SUP0374|    647.34|   1/29/23|\n",
            "|  PROD0005|    Wardrobe|     Kitchenware|    SUP1980|    925.23|   4/19/22|\n",
            "+----------+------------+----------------+-----------+----------+----------+\n",
            "only showing top 5 rows\n",
            "\n"
          ]
        }
      ]
    },
    {
      "cell_type": "code",
      "source": [
        "#checking nulls\n",
        "null_check_df = df_product.filter(df_product[\"product_id\"].isNull())\n",
        "null_check_df.show()"
      ],
      "metadata": {
        "colab": {
          "base_uri": "https://localhost:8080/"
        },
        "id": "7mirstDHYe3g",
        "outputId": "925c04a0-60c3-402c-f99d-784d9035dabd"
      },
      "execution_count": null,
      "outputs": [
        {
          "output_type": "stream",
          "name": "stdout",
          "text": [
            "+----------+------------+----------------+-----------+----------+----------+\n",
            "|product_id|product_name|product_category|supplier_id|orig_price|date_added|\n",
            "+----------+------------+----------------+-----------+----------+----------+\n",
            "+----------+------------+----------------+-----------+----------+----------+\n",
            "\n"
          ]
        }
      ]
    },
    {
      "cell_type": "markdown",
      "source": [],
      "metadata": {
        "id": "4XsQzvlSZi4o"
      }
    },
    {
      "cell_type": "code",
      "source": [
        "df_product.groupBy(\"product_id\").agg(count(\"*\").alias(\"counts\")).where(col(\"counts\") > 1).show()"
      ],
      "metadata": {
        "colab": {
          "base_uri": "https://localhost:8080/"
        },
        "id": "q0X29M-IY535",
        "outputId": "7a54422c-8229-4c5a-ef3d-d140d45c731f"
      },
      "execution_count": null,
      "outputs": [
        {
          "output_type": "stream",
          "name": "stdout",
          "text": [
            "+----------+------+\n",
            "|product_id|counts|\n",
            "+----------+------+\n",
            "|  PROD0018|     2|\n",
            "|  PROD0170|     2|\n",
            "|  PROD0169|     2|\n",
            "|  PROD0171|     2|\n",
            "|  PROD0845|     2|\n",
            "|  PROD0167|     2|\n",
            "|  PROD0843|     2|\n",
            "|  PROD0842|     2|\n",
            "|  PROD0168|     2|\n",
            "|  PROD0844|     2|\n",
            "+----------+------+\n",
            "\n"
          ]
        }
      ]
    },
    {
      "cell_type": "code",
      "source": [
        "df_product.withColumn(\"counts\",count(\"*\").over(Window.partitionBy(\"product_id\"))).filter(col(\"counts\")>1).show()"
      ],
      "metadata": {
        "colab": {
          "base_uri": "https://localhost:8080/"
        },
        "id": "juiwYhrGZpkP",
        "outputId": "de51bf6e-f8da-47b3-8ec9-d463e51c2e61"
      },
      "execution_count": null,
      "outputs": [
        {
          "output_type": "stream",
          "name": "stdout",
          "text": [
            "+----------+---------------+----------------+-----------+----------+----------+------+\n",
            "|product_id|   product_name|product_category|supplier_id|orig_price|date_added|counts|\n",
            "+----------+---------------+----------------+-----------+----------+----------+------+\n",
            "|  PROD0018|Washing Machine|        Footwear|    SUP3419|    399.57|  10/28/21|     2|\n",
            "|  PROD0018|Washing Machine|        Footwear|    SUP3419|    399.57|  10/28/21|     2|\n",
            "|  PROD0167|     Smartwatch|        Footwear|    SUP0301|    329.63|    9/8/21|     2|\n",
            "|  PROD0167|     Smartwatch|        Footwear|    SUP0301|    329.63|    9/8/21|     2|\n",
            "|  PROD0168|   Coffee Maker|      Appliances|    SUP3759|    552.53|   4/14/20|     2|\n",
            "|  PROD0168|   Coffee Maker|      Appliances|    SUP3759|    552.53|   4/14/20|     2|\n",
            "|  PROD0169|          Table|        Footwear|    SUP4823|    152.52|  11/18/22|     2|\n",
            "|  PROD0169|          Table|        Footwear|    SUP4823|    152.52|  11/18/22|     2|\n",
            "|  PROD0170|       Cookware|     Electronics|    SUP3658|    696.68|   8/23/21|     2|\n",
            "|  PROD0170|       Cookware|     Electronics|    SUP3658|    696.68|   8/23/21|     2|\n",
            "|  PROD0171|      Bookshelf|        Clothing|    SUP3419|    513.24|  11/24/21|     2|\n",
            "|  PROD0171|      Bookshelf|        Clothing|    SUP3419|    513.24|  11/24/21|     2|\n",
            "|  PROD0842|          Table|      Home Decor|    SUP2414|    365.72|   8/20/21|     2|\n",
            "|  PROD0842|          Table|      Home Decor|    SUP2414|    365.72|   8/20/21|     2|\n",
            "|  PROD0843|         Fridge|        Footwear|    SUP0294|    959.47|   1/24/20|     2|\n",
            "|  PROD0843|         Fridge|        Footwear|    SUP0294|    959.47|   1/24/20|     2|\n",
            "|  PROD0844|Washing Machine|     Accessories|    SUP4598|     440.0|   12/5/20|     2|\n",
            "|  PROD0844|Washing Machine|     Accessories|    SUP4598|     440.0|   12/5/20|     2|\n",
            "|  PROD0845|     Laptop Bag|      Appliances|    SUP0946|     410.7|  10/30/21|     2|\n",
            "|  PROD0845|     Laptop Bag|      Appliances|    SUP0946|     410.7|  10/30/21|     2|\n",
            "+----------+---------------+----------------+-----------+----------+----------+------+\n",
            "\n"
          ]
        }
      ]
    },
    {
      "cell_type": "markdown",
      "source": [
        "need to create a coulmn is active and implement a scd type 2 case here\n",
        "if the product data is getting updated we need to update the is_active flag and insert them here\n",
        "\n",
        "even here the date needs to imported differently"
      ],
      "metadata": {
        "id": "nH1yymsyahDh"
      }
    },
    {
      "cell_type": "markdown",
      "source": [
        "If the upstream data is coming like a snapshot or incremental, we need to configure acccordingly"
      ],
      "metadata": {
        "id": "mgSZqfzfg1cT"
      }
    },
    {
      "cell_type": "code",
      "source": [
        "df_store.show(5)"
      ],
      "metadata": {
        "colab": {
          "base_uri": "https://localhost:8080/"
        },
        "id": "b4zILIUbaJUA",
        "outputId": "5d9b2193-e3cf-4bbc-f141-617e0956b4b0"
      },
      "execution_count": null,
      "outputs": [
        {
          "output_type": "stream",
          "name": "stdout",
          "text": [
            "+--------+-------------+---------+----------+---------------+\n",
            "|store_id|   store_name|   region|manager_id|   manager_name|\n",
            "+--------+-------------+---------+----------+---------------+\n",
            "|    SI01|   CityGrocer|  Midwest|     MAN01|   Sophia Lopez|\n",
            "|    SI02|    FreshMart|Northeast|     MAN02|    Linda White|\n",
            "|    SI03|     ShopEasy|  Midwest|     MAN03|   Elijah Moore|\n",
            "|    SI04|  CornerStore|     West|     MAN04|    Liam Wilson|\n",
            "|    SI05|  MarketPlace|     West|     MAN05|   Lucas Martin|\n",
            "|    SI06| MetroGrocery|    South|     MAN06| Isabella Clark|\n",
            "|    SI07|    ValueMart|Northeast|     MAN07|  Alice Johnson|\n",
            "|    SI08|  PrimeGrocer|  Midwest|     MAN08| David Thompson|\n",
            "|    SI09|    SuperSave|    South|     MAN09|  Emma Martinez|\n",
            "|    SI10|DiscountDepot|  Midwest|     MAN10|     John Smith|\n",
            "|    SI11|   FoodBazaar|  Midwest|     MAN11|       Jane Doe|\n",
            "|    SI12|    BudgetBuy|Northeast|     MAN12|Alexander Perez|\n",
            "|    SIO1|  CityGrocer_|  Midwest|     MAN01|   Sophia Lopez|\n",
            "|    SI13|  UrbanMarket|Northeast|     MAN13|  William Green|\n",
            "|    NULL|  GreenValley|     West|     MAN14|   Olivia Davis|\n",
            "|    SI15|    QuickShop|Northeast|     MAN15|       Mia King|\n",
            "|    SI16|  FreshChoice|Northeast|     MAN16| James Anderson|\n",
            "|    SI17|    DailyMart|  Midwest|     MAN17|  Michael Brown|\n",
            "|    NULL|     MegaMart|Northeast|     MAN18|Benjamin Garcia|\n",
            "|    SI19|   GroceryHub|    South|     MAN19|     Amelia Lee|\n",
            "+--------+-------------+---------+----------+---------------+\n",
            "only showing top 20 rows\n",
            "\n",
            "+--------+-----------+---------+----------+------------+\n",
            "|store_id| store_name|   region|manager_id|manager_name|\n",
            "+--------+-----------+---------+----------+------------+\n",
            "|    SI01| CityGrocer|  Midwest|     MAN01|Sophia Lopez|\n",
            "|    SI02|  FreshMart|Northeast|     MAN02| Linda White|\n",
            "|    SI03|   ShopEasy|  Midwest|     MAN03|Elijah Moore|\n",
            "|    SI04|CornerStore|     West|     MAN04| Liam Wilson|\n",
            "|    SI05|MarketPlace|     West|     MAN05|Lucas Martin|\n",
            "+--------+-----------+---------+----------+------------+\n",
            "only showing top 5 rows\n",
            "\n"
          ]
        }
      ]
    },
    {
      "cell_type": "markdown",
      "source": [],
      "metadata": {
        "id": "x1PqImE9hQwD"
      }
    },
    {
      "cell_type": "markdown",
      "source": [
        "GOLD OBT data schema\n",
        "\n",
        "txn_id,txn_date, customer_id, product_id, product_name, product_category, original_price, selling_price, qty_sold, sales_person_id, store_id, store_name, store_region, store_manager_id, store_manager_name,(partition cols = year, month, day)\n",
        "\n",
        "better create a mapping checklist for what columns we need here in the GOLD OBT data."
      ],
      "metadata": {
        "id": "GUEm4RbqhcvJ"
      }
    },
    {
      "cell_type": "code",
      "source": [
        "df_sales.columns"
      ],
      "metadata": {
        "colab": {
          "base_uri": "https://localhost:8080/"
        },
        "id": "48nR0VdihPGD",
        "outputId": "fe09f573-3453-4ef8-de01-5d2dce3a7a06"
      },
      "execution_count": null,
      "outputs": [
        {
          "output_type": "execute_result",
          "data": {
            "text/plain": [
              "['staging_transaction_id',\n",
              " 'staging_customer_id',\n",
              " 'staging_product_id',\n",
              " 'staging_quantity_sold',\n",
              " 'staging_price_per_unit',\n",
              " 'staging_transaction_date',\n",
              " 'staging_salesperson_id',\n",
              " 'staging_payment_method',\n",
              " 'staging_store_id',\n",
              " 'year',\n",
              " 'month']"
            ]
          },
          "metadata": {},
          "execution_count": 71
        }
      ]
    },
    {
      "cell_type": "code",
      "source": [
        "df_product.columns"
      ],
      "metadata": {
        "colab": {
          "base_uri": "https://localhost:8080/"
        },
        "id": "0-ICwAh7hr3J",
        "outputId": "278fed81-4d14-4123-f99c-a744de2ce23e"
      },
      "execution_count": null,
      "outputs": [
        {
          "output_type": "execute_result",
          "data": {
            "text/plain": [
              "['product_id',\n",
              " 'product_name',\n",
              " 'product_category',\n",
              " 'supplier_id',\n",
              " 'orig_price',\n",
              " 'date_added']"
            ]
          },
          "metadata": {},
          "execution_count": 72
        }
      ]
    },
    {
      "cell_type": "code",
      "source": [
        "df_store.columns"
      ],
      "metadata": {
        "colab": {
          "base_uri": "https://localhost:8080/"
        },
        "id": "IlK7v8_5h8km",
        "outputId": "f69018c6-534e-408b-eaa4-00156cb5bc0e"
      },
      "execution_count": null,
      "outputs": [
        {
          "output_type": "execute_result",
          "data": {
            "text/plain": [
              "['store_id', 'store_name', 'region', 'manager_id', 'manager_name']"
            ]
          },
          "metadata": {},
          "execution_count": 73
        }
      ]
    },
    {
      "cell_type": "markdown",
      "source": [
        "SCD notes - Audit Columns\n",
        "\n",
        "Created Timestamp, updated Timestamp, IS_ACTIVE flag, DML_flag ( 0 for delete, 1 for insert, 2 for update)\n"
      ],
      "metadata": {
        "id": "s04DU9d4tsgv"
      }
    },
    {
      "cell_type": "code",
      "source": [],
      "metadata": {
        "id": "N6_G94g4iS3r"
      },
      "execution_count": null,
      "outputs": []
    }
  ]
}