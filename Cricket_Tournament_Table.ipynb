{
  "nbformat": 4,
  "nbformat_minor": 0,
  "metadata": {
    "colab": {
      "provenance": []
    },
    "kernelspec": {
      "name": "python3",
      "display_name": "Python 3"
    },
    "language_info": {
      "name": "python"
    }
  },
  "cells": [
    {
      "cell_type": "markdown",
      "source": [
        "## Boiler Plate Code"
      ],
      "metadata": {
        "id": "9Jm377RK1mnv"
      }
    },
    {
      "cell_type": "code",
      "execution_count": 1,
      "metadata": {
        "id": "13A1-zfZ-1jt"
      },
      "outputs": [],
      "source": [
        "# Import PySpark\n",
        "from pyspark.sql import SparkSession\n",
        "\n",
        "# Create SparkSession\n",
        "spark = SparkSession \\\n",
        "    .builder \\\n",
        "    .master('local[*]') \\\n",
        "    .appName(\"cricket\") \\\n",
        "    .config(\"spark.driver.memory\", \"4g\") \\\n",
        "    .getOrCreate()"
      ]
    },
    {
      "cell_type": "code",
      "source": [
        "from pyspark.sql.functions import *\n",
        "from pyspark.sql.window import Window"
      ],
      "metadata": {
        "id": "Kjki8Tj_CpLd"
      },
      "execution_count": 2,
      "outputs": []
    },
    {
      "cell_type": "code",
      "source": [
        "#lista = ['India','Pakisthan','Australia','England','SriLanka','Bangladesh','WestIndies','NewZealand','Afghanisthan'];\n",
        "lista = ['India','Pakisthan','Australia','England','SriLanka','Bangladesh'];\n",
        "colsa = ['Teams'];\n",
        "\n",
        "data = [(item,) for item in lista]\n",
        "df1 = spark.createDataFrame(data, colsa)"
      ],
      "metadata": {
        "id": "Eu5UurzKihX7"
      },
      "execution_count": 13,
      "outputs": []
    },
    {
      "cell_type": "markdown",
      "source": [
        "##Cricket Tournament Problem - Match Fixtures\n"
      ],
      "metadata": {
        "id": "y-BmlSbSycdl"
      }
    },
    {
      "cell_type": "code",
      "source": [
        "df1.show()"
      ],
      "metadata": {
        "colab": {
          "base_uri": "https://localhost:8080/"
        },
        "id": "fHAO3ytKjDcu",
        "outputId": "baeb2d45-9f15-4ee5-ac4d-963b5c8a1834"
      },
      "execution_count": 14,
      "outputs": [
        {
          "output_type": "stream",
          "name": "stdout",
          "text": [
            "+----------+\n",
            "|     Teams|\n",
            "+----------+\n",
            "|     India|\n",
            "| Pakisthan|\n",
            "| Australia|\n",
            "|   England|\n",
            "|  SriLanka|\n",
            "|Bangladesh|\n",
            "+----------+\n",
            "\n"
          ]
        }
      ]
    },
    {
      "cell_type": "code",
      "source": [
        "# Generate the matches\n",
        "df2 = df1.alias(\"t1\")\\\n",
        "        .crossJoin(df1.alias('t2'))\\\n",
        "        .filter(col(\"t1.Teams\") > col(\"t2.Teams\"))\\\n",
        "        .select(col(\"t1.Teams\").alias(\"Team A\"),\\\n",
        "                col(\"t2.Teams\").alias(\"Team B\"))\n",
        "df2.show()"
      ],
      "metadata": {
        "colab": {
          "base_uri": "https://localhost:8080/"
        },
        "id": "mkO04s17jWzn",
        "outputId": "6f73c922-3e60-4750-84a8-c56b3c62f23f"
      },
      "execution_count": 15,
      "outputs": [
        {
          "output_type": "stream",
          "name": "stdout",
          "text": [
            "+----------+----------+\n",
            "|    Team A|    Team B|\n",
            "+----------+----------+\n",
            "|     India| Australia|\n",
            "| Pakisthan|     India|\n",
            "| Pakisthan| Australia|\n",
            "|     India|   England|\n",
            "|     India|Bangladesh|\n",
            "| Pakisthan|   England|\n",
            "| Pakisthan|Bangladesh|\n",
            "|   England| Australia|\n",
            "|  SriLanka|     India|\n",
            "|  SriLanka| Pakisthan|\n",
            "|  SriLanka| Australia|\n",
            "|Bangladesh| Australia|\n",
            "|   England|Bangladesh|\n",
            "|  SriLanka|   England|\n",
            "|  SriLanka|Bangladesh|\n",
            "+----------+----------+\n",
            "\n"
          ]
        }
      ]
    },
    {
      "cell_type": "markdown",
      "source": [
        "## Points Table with Winner"
      ],
      "metadata": {
        "id": "HE0J6wuY_9go"
      }
    },
    {
      "cell_type": "code",
      "source": [
        "\n",
        "df2 = df2.withColumn(\"random_num\",rand())\\\n",
        "            .withColumn(\"Winner\",when(col(\"random_num\") < 0.4 ,df2[\"Team A\"])\\\n",
        "                        .when(col(\"random_num\")> 0.6 , df2[\"Team B\"])\\\n",
        "                        .otherwise(\"Draw\")\n",
        "                        ).select(\"Team A\",\"Team B\",\"Winner\")\n",
        "df2.show()\n"
      ],
      "metadata": {
        "colab": {
          "base_uri": "https://localhost:8080/"
        },
        "id": "DBjdETZWj5mC",
        "outputId": "a928fecc-11ba-42f7-d6b0-00f53803d3cf"
      },
      "execution_count": 16,
      "outputs": [
        {
          "output_type": "stream",
          "name": "stdout",
          "text": [
            "+----------+----------+----------+\n",
            "|    Team A|    Team B|    Winner|\n",
            "+----------+----------+----------+\n",
            "|     India| Australia| Australia|\n",
            "| Pakisthan|     India| Pakisthan|\n",
            "| Pakisthan| Australia|      Draw|\n",
            "|     India|   England|      Draw|\n",
            "|     India|Bangladesh|     India|\n",
            "| Pakisthan|   England|   England|\n",
            "| Pakisthan|Bangladesh|Bangladesh|\n",
            "|   England| Australia| Australia|\n",
            "|  SriLanka|     India|  SriLanka|\n",
            "|  SriLanka| Pakisthan| Pakisthan|\n",
            "|  SriLanka| Australia| Australia|\n",
            "|Bangladesh| Australia| Australia|\n",
            "|   England|Bangladesh|Bangladesh|\n",
            "|  SriLanka|   England|   England|\n",
            "|  SriLanka|Bangladesh|Bangladesh|\n",
            "+----------+----------+----------+\n",
            "\n"
          ]
        }
      ]
    },
    {
      "cell_type": "code",
      "source": [
        "top_df = df2.select(\"Team A\", \"Winner\")\\\n",
        "          .withColumn(\"Points\"\\\n",
        "            ,when(col(\"Team A\") == col(\"Winner\"),3)\\\n",
        "                  .when(col(\"Winner\")== \"Draw\", 1)\\\n",
        "                  .otherwise(0)).select(col(\"Team A\").alias(\"team\"),\"points\")\n",
        "bottom_df = df2.select(\"Team B\", \"Winner\")\\\n",
        "          .withColumn(\"Points\"\\\n",
        "            ,when(col(\"Team B\") == col(\"Winner\"),3)\\\n",
        "                  .when(col(\"Winner\")== \"Draw\", 1)\\\n",
        "                  .otherwise(0)).select(col(\"Team B\").alias(\"team\"),\"points\")\n",
        "\n",
        "points_df = top_df.unionAll(bottom_df)\n",
        "\n",
        "points_df.show()"
      ],
      "metadata": {
        "colab": {
          "base_uri": "https://localhost:8080/"
        },
        "id": "DGi9XAXhnqqa",
        "outputId": "4316d1cc-163a-40c8-d93c-d83c4386f69a"
      },
      "execution_count": 17,
      "outputs": [
        {
          "output_type": "stream",
          "name": "stdout",
          "text": [
            "+----------+------+\n",
            "|      team|points|\n",
            "+----------+------+\n",
            "|     India|     0|\n",
            "| Pakisthan|     3|\n",
            "| Pakisthan|     1|\n",
            "|     India|     1|\n",
            "|     India|     3|\n",
            "| Pakisthan|     0|\n",
            "| Pakisthan|     0|\n",
            "|   England|     0|\n",
            "|  SriLanka|     3|\n",
            "|  SriLanka|     0|\n",
            "|  SriLanka|     0|\n",
            "|Bangladesh|     0|\n",
            "|   England|     0|\n",
            "|  SriLanka|     0|\n",
            "|  SriLanka|     0|\n",
            "| Australia|     3|\n",
            "|     India|     0|\n",
            "| Australia|     1|\n",
            "|   England|     1|\n",
            "|Bangladesh|     0|\n",
            "+----------+------+\n",
            "only showing top 20 rows\n",
            "\n"
          ]
        }
      ]
    },
    {
      "cell_type": "code",
      "source": [
        "points_df.groupBy(\"team\")\\\n",
        "                        .agg(sum(\"points\").alias(\"total_points\")\\\n",
        "                             ,count(\"points\").alias(\"matches_played\"))\\\n",
        "                             .orderBy(desc(\"total_points\"),asc(\"matches_played\")).show()"
      ],
      "metadata": {
        "colab": {
          "base_uri": "https://localhost:8080/"
        },
        "id": "gNJmaDPmtH4-",
        "outputId": "b444a468-d4fb-49f8-cba0-8a82caea5263"
      },
      "execution_count": 18,
      "outputs": [
        {
          "output_type": "stream",
          "name": "stdout",
          "text": [
            "+----------+------------+--------------+\n",
            "|      team|total_points|matches_played|\n",
            "+----------+------------+--------------+\n",
            "| Australia|          13|             5|\n",
            "|Bangladesh|           9|             5|\n",
            "| Pakisthan|           7|             5|\n",
            "|   England|           7|             5|\n",
            "|     India|           4|             5|\n",
            "|  SriLanka|           3|             5|\n",
            "+----------+------------+--------------+\n",
            "\n"
          ]
        }
      ]
    },
    {
      "cell_type": "markdown",
      "source": [
        "## With Score and Net Runrate"
      ],
      "metadata": {
        "id": "rTYG2r69_fw7"
      }
    },
    {
      "cell_type": "code",
      "source": [
        "df3  = df2.withColumn(\"team_a_score\",round(rand()*325))\\\n",
        "            .withColumn(\"team_b_score\",round(rand()*325))\\\n",
        "              .select(col(\"Team A\").alias(\"team_a\")\\\n",
        "                      ,col(\"Team B\").alias(\"team_b\")\\\n",
        "                      ,\"team_a_score\"\\\n",
        "                      ,\"team_b_score\"\n",
        "                      )"
      ],
      "metadata": {
        "id": "wTGpVQaav8HZ"
      },
      "execution_count": 19,
      "outputs": []
    },
    {
      "cell_type": "code",
      "source": [
        "df3  = df3.withColumn(\"winner\",when(col(\"team_a_score\") > col(\"team_b_score\"), col(\"team_a\"))\\\n",
        "                             .when(col(\"team_a_score\") < col(\"team_b_score\"), col(\"team_b\"))\\\n",
        "                                   .otherwise(\"draw\")\n",
        "                                   )"
      ],
      "metadata": {
        "id": "Sivs4ogdAfdL"
      },
      "execution_count": 20,
      "outputs": []
    },
    {
      "cell_type": "code",
      "source": [
        "top_df = df3.withColumn(\"points\", when( df3.team_a_score > df3.team_b_score, 3)\\\n",
        "                                  .when(df3.team_a_score < df3.team_b_score,0)\\\n",
        "                              .otherwise(1))\\\n",
        "                              .withColumn(\"run_diff\", 0.02 * (df3.team_a_score - df3.team_b_score))\\\n",
        "                              .select(col(\"team_a\"), col(\"points\"), col(\"run_diff\"))\n",
        "\n",
        "bottom_df = df3.withColumn(\"points\", when( df3.team_b_score > df3.team_a_score, 3)\\\n",
        "                                  .when(df3.team_b_score < df3.team_a_score,0)\\\n",
        "                              .otherwise(1))\\\n",
        "                              .withColumn(\"run_diff\", 0.02 * (df3.team_b_score - df3.team_a_score))\\\n",
        "                              .select(col(\"team_b\"), col(\"points\"), col(\"run_diff\"))\n",
        "\n",
        "total_df = top_df.unionAll(bottom_df)"
      ],
      "metadata": {
        "id": "3kRQMujjByCv"
      },
      "execution_count": 23,
      "outputs": []
    },
    {
      "cell_type": "code",
      "source": [
        "total_df.groupBy(total_df.team_a).agg(sum(total_df.points).alias(\"total_points\")\\\n",
        "                                      ,round(avg(total_df.run_diff),2).alias(\"net_run_rate\"))\\\n",
        "                                      .select(col(\"team_a\"),col(\"total_points\"),col(\"net_run_rate\"))\\\n",
        "                                      .orderBy(desc(col(\"total_points\")),desc(col(\"net_run_rate\")))\\\n",
        "                                      .show()"
      ],
      "metadata": {
        "colab": {
          "base_uri": "https://localhost:8080/"
        },
        "id": "tTCASvBRDSRW",
        "outputId": "c905fe59-3730-419e-ff9a-64b5a1143b5a"
      },
      "execution_count": 26,
      "outputs": [
        {
          "output_type": "stream",
          "name": "stdout",
          "text": [
            "+----------+------------+------------+\n",
            "|    team_a|total_points|net_run_rate|\n",
            "+----------+------------+------------+\n",
            "|  SriLanka|          15|        1.45|\n",
            "| Pakisthan|          12|        0.46|\n",
            "| Australia|           9|        0.95|\n",
            "|     India|           3|       -0.62|\n",
            "|   England|           3|       -0.86|\n",
            "|Bangladesh|           3|       -1.38|\n",
            "+----------+------------+------------+\n",
            "\n"
          ]
        }
      ]
    },
    {
      "cell_type": "code",
      "source": [
        "1/50"
      ],
      "metadata": {
        "colab": {
          "base_uri": "https://localhost:8080/"
        },
        "id": "C3_p3tIzEj2V",
        "outputId": "f2de519e-d761-4f79-99dd-52ee9ea88e3f"
      },
      "execution_count": 21,
      "outputs": [
        {
          "output_type": "execute_result",
          "data": {
            "text/plain": [
              "0.02"
            ]
          },
          "metadata": {},
          "execution_count": 21
        }
      ]
    },
    {
      "cell_type": "code",
      "source": [],
      "metadata": {
        "id": "RiZJbZ58XuWK"
      },
      "execution_count": null,
      "outputs": []
    }
  ]
}