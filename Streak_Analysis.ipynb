{
  "nbformat": 4,
  "nbformat_minor": 0,
  "metadata": {
    "colab": {
      "provenance": []
    },
    "kernelspec": {
      "name": "python3",
      "display_name": "Python 3"
    },
    "language_info": {
      "name": "python"
    }
  },
  "cells": [
    {
      "cell_type": "markdown",
      "source": [
        "# Streak Analysis"
      ],
      "metadata": {
        "id": "G0NVsU6_0rjV"
      }
    },
    {
      "cell_type": "code",
      "execution_count": null,
      "metadata": {
        "id": "z-RMXYKl0PPw"
      },
      "outputs": [],
      "source": []
    },
    {
      "cell_type": "markdown",
      "source": [
        "## Boiler Plate Code"
      ],
      "metadata": {
        "id": "9Jm377RK1mnv"
      }
    },
    {
      "cell_type": "code",
      "execution_count": null,
      "metadata": {
        "id": "13A1-zfZ-1jt"
      },
      "outputs": [],
      "source": [
        "# Import PySpark\n",
        "from pyspark.sql import SparkSession\n",
        "\n",
        "# Create SparkSession\n",
        "spark = SparkSession \\\n",
        "    .builder \\\n",
        "    .master('local[*]') \\\n",
        "    .appName(\"pareto_sql\") \\\n",
        "    .config(\"spark.driver.memory\", \"4g\") \\\n",
        "    .getOrCreate()"
      ]
    },
    {
      "cell_type": "code",
      "source": [
        "from pyspark.sql.functions import *\n",
        "from pyspark.sql.window import Window"
      ],
      "metadata": {
        "id": "Kjki8Tj_CpLd"
      },
      "execution_count": null,
      "outputs": []
    },
    {
      "cell_type": "code",
      "source": [
        "!kaggle datasets download -d mohammadtalib786/retail-sales-dataset"
      ],
      "metadata": {
        "id": "qFEVtvH2_wTx",
        "colab": {
          "base_uri": "https://localhost:8080/"
        },
        "outputId": "ee911277-c088-42d8-9855-43adb667d780"
      },
      "execution_count": null,
      "outputs": [
        {
          "output_type": "stream",
          "name": "stdout",
          "text": [
            "Dataset URL: https://www.kaggle.com/datasets/mohammadtalib786/retail-sales-dataset\n",
            "License(s): CC0-1.0\n",
            "Downloading retail-sales-dataset.zip to /content\n",
            "  0% 0.00/11.2k [00:00<?, ?B/s]\n",
            "100% 11.2k/11.2k [00:00<00:00, 12.1MB/s]\n"
          ]
        }
      ]
    },
    {
      "cell_type": "code",
      "source": [
        "#unpacing the zip file\n",
        "import zipfile\n",
        "zip_ref = zipfile.ZipFile('retail-sales-dataset.zip', 'r')\n",
        "zip_ref.extractall('/content')\n",
        "zip_ref.close()"
      ],
      "metadata": {
        "id": "dRmurVFeAMq8"
      },
      "execution_count": null,
      "outputs": []
    },
    {
      "cell_type": "code",
      "source": [
        "#loading the data\n",
        "df1 = spark.read\\\n",
        "    .format(\"csv\")\\\n",
        "    .option(\"inferSchema\",\"true\")\\\n",
        "    .option(\"header\",\"true\")\\\n",
        "    .option(\"delimiter\",\",\")\\\n",
        "    .load(\"/content/retail_sales_dataset.csv\")"
      ],
      "metadata": {
        "id": "FiSUEnrY-_6l"
      },
      "execution_count": null,
      "outputs": []
    },
    {
      "cell_type": "code",
      "source": [
        "# renaming columns\n",
        "cols = df1.columns\n",
        "cols_new = [col.replace(\" \", \"_\").lower() for col in cols]\n",
        "df1 = df1.toDF(*cols_new)"
      ],
      "metadata": {
        "id": "yPYnVeSk__gt"
      },
      "execution_count": null,
      "outputs": []
    },
    {
      "cell_type": "code",
      "source": [
        "#creating a view for Spark SQL\n",
        "df1.createOrReplaceTempView(\"sales\")"
      ],
      "metadata": {
        "id": "Aut35Iz_Apr7"
      },
      "execution_count": null,
      "outputs": []
    },
    {
      "cell_type": "markdown",
      "source": [
        "##Streak Question"
      ],
      "metadata": {
        "id": "0ERjeddpsLIy"
      }
    },
    {
      "cell_type": "code",
      "source": [
        "df1.show(5)"
      ],
      "metadata": {
        "colab": {
          "base_uri": "https://localhost:8080/"
        },
        "id": "JdP-HcVpsOdo",
        "outputId": "e9a71b69-0e43-4cc7-c253-e8836579b07e"
      },
      "execution_count": null,
      "outputs": [
        {
          "output_type": "stream",
          "name": "stdout",
          "text": [
            "+--------------+----------+-----------+------+---+----------------+--------+--------------+------------+\n",
            "|transaction_id|      date|customer_id|gender|age|product_category|quantity|price_per_unit|total_amount|\n",
            "+--------------+----------+-----------+------+---+----------------+--------+--------------+------------+\n",
            "|             1|2023-11-24|    CUST001|  Male| 34|          Beauty|       3|            50|         150|\n",
            "|             2|2023-02-27|    CUST002|Female| 26|        Clothing|       2|           500|        1000|\n",
            "|             3|2023-01-13|    CUST003|  Male| 50|     Electronics|       1|            30|          30|\n",
            "|             4|2023-05-21|    CUST004|  Male| 37|        Clothing|       1|           500|         500|\n",
            "|             5|2023-05-06|    CUST005|  Male| 30|          Beauty|       2|            50|         100|\n",
            "+--------------+----------+-----------+------+---+----------------+--------+--------------+------------+\n",
            "only showing top 5 rows\n",
            "\n"
          ]
        }
      ]
    },
    {
      "cell_type": "code",
      "source": [
        "# aggregate at the level of the date  -> sum of total amount\n",
        "\n",
        "df2 = df1.\\\n",
        "  groupBy(\"date\").\\\n",
        "  agg(sum(\"total_amount\").alias(\"total_sales\"))\n",
        "\n",
        "df2.sort(\"date\",ascending = True).show()\n",
        "#some dates are missing"
      ],
      "metadata": {
        "colab": {
          "base_uri": "https://localhost:8080/"
        },
        "id": "EYDOba3SsWwr",
        "outputId": "bcf7e07f-e769-4c59-d4ba-f54462212e8c"
      },
      "execution_count": null,
      "outputs": [
        {
          "output_type": "stream",
          "name": "stdout",
          "text": [
            "+----------+-----------+\n",
            "|      date|total_sales|\n",
            "+----------+-----------+\n",
            "|2023-01-01|       3600|\n",
            "|2023-01-02|       1765|\n",
            "|2023-01-03|        600|\n",
            "|2023-01-04|       1240|\n",
            "|2023-01-05|       1100|\n",
            "|2023-01-06|        620|\n",
            "|2023-01-07|        150|\n",
            "|2023-01-08|        625|\n",
            "|2023-01-09|        200|\n",
            "|2023-01-10|        230|\n",
            "|2023-01-11|        280|\n",
            "|2023-01-13|       1930|\n",
            "|2023-01-14|       1550|\n",
            "|2023-01-15|        660|\n",
            "|2023-01-16|       4000|\n",
            "|2023-01-17|       1645|\n",
            "|2023-01-19|         30|\n",
            "|2023-01-20|        125|\n",
            "|2023-01-21|       2090|\n",
            "|2023-01-22|        325|\n",
            "+----------+-----------+\n",
            "only showing top 20 rows\n",
            "\n"
          ]
        }
      ]
    },
    {
      "cell_type": "code",
      "source": [
        "thres = 1000;\n",
        "\n",
        "df3 = df2.filter(df2.total_sales >= thres)\n",
        "df3.sort(\"date\",ascending = True).show()"
      ],
      "metadata": {
        "colab": {
          "base_uri": "https://localhost:8080/"
        },
        "id": "z0IinU6kwahW",
        "outputId": "6a977ff1-5e78-4fa0-a5da-94f09d7d62fc"
      },
      "execution_count": null,
      "outputs": [
        {
          "output_type": "stream",
          "name": "stdout",
          "text": [
            "+----------+-----------+\n",
            "|      date|total_sales|\n",
            "+----------+-----------+\n",
            "|2023-01-01|       3600|\n",
            "|2023-01-02|       1765|\n",
            "|2023-01-04|       1240|\n",
            "|2023-01-05|       1100|\n",
            "|2023-01-13|       1930|\n",
            "|2023-01-14|       1550|\n",
            "|2023-01-16|       4000|\n",
            "|2023-01-17|       1645|\n",
            "|2023-01-21|       2090|\n",
            "|2023-01-23|       3120|\n",
            "|2023-01-24|       2250|\n",
            "|2023-01-26|       2570|\n",
            "|2023-01-28|       1020|\n",
            "|2023-01-31|       2100|\n",
            "|2023-02-01|       4700|\n",
            "|2023-02-02|       1375|\n",
            "|2023-02-03|       1230|\n",
            "|2023-02-04|       1120|\n",
            "|2023-02-05|       1805|\n",
            "|2023-02-07|       2100|\n",
            "+----------+-----------+\n",
            "only showing top 20 rows\n",
            "\n"
          ]
        }
      ]
    },
    {
      "cell_type": "code",
      "source": [
        "\n",
        "\n",
        "df4 = df3.withColumn(\"rnk1\", row_number().over(Window.orderBy(asc(\"date\"))))\n",
        "df5 = df4.withColumn(\"club\", column(\"date\")-column(\"rnk1\"))\n",
        "df5.show()"
      ],
      "metadata": {
        "colab": {
          "base_uri": "https://localhost:8080/"
        },
        "id": "6OnGF3o3woay",
        "outputId": "aa9cb327-1bef-44b2-d0d8-5f96efe55958"
      },
      "execution_count": null,
      "outputs": [
        {
          "output_type": "stream",
          "name": "stdout",
          "text": [
            "+----------+-----------+----+----------+\n",
            "|      date|total_sales|rnk1|      club|\n",
            "+----------+-----------+----+----------+\n",
            "|2023-01-01|       3600|   1|2022-12-31|\n",
            "|2023-01-02|       1765|   2|2022-12-31|\n",
            "|2023-01-04|       1240|   3|2023-01-01|\n",
            "|2023-01-05|       1100|   4|2023-01-01|\n",
            "|2023-01-13|       1930|   5|2023-01-08|\n",
            "|2023-01-14|       1550|   6|2023-01-08|\n",
            "|2023-01-16|       4000|   7|2023-01-09|\n",
            "|2023-01-17|       1645|   8|2023-01-09|\n",
            "|2023-01-21|       2090|   9|2023-01-12|\n",
            "|2023-01-23|       3120|  10|2023-01-13|\n",
            "|2023-01-24|       2250|  11|2023-01-13|\n",
            "|2023-01-26|       2570|  12|2023-01-14|\n",
            "|2023-01-28|       1020|  13|2023-01-15|\n",
            "|2023-01-31|       2100|  14|2023-01-17|\n",
            "|2023-02-01|       4700|  15|2023-01-17|\n",
            "|2023-02-02|       1375|  16|2023-01-17|\n",
            "|2023-02-03|       1230|  17|2023-01-17|\n",
            "|2023-02-04|       1120|  18|2023-01-17|\n",
            "|2023-02-05|       1805|  19|2023-01-17|\n",
            "|2023-02-07|       2100|  20|2023-01-18|\n",
            "+----------+-----------+----+----------+\n",
            "only showing top 20 rows\n",
            "\n"
          ]
        }
      ]
    },
    {
      "cell_type": "code",
      "source": [
        "df5.withColumn(\"streak\",count(\"*\").over(Window.partitionBy(\"club\"))).agg(max(\"streak\")).show()"
      ],
      "metadata": {
        "colab": {
          "base_uri": "https://localhost:8080/"
        },
        "id": "8ZFzTI9oxK8C",
        "outputId": "ecac146e-23f9-4ab5-b10f-8c830b223010"
      },
      "execution_count": null,
      "outputs": [
        {
          "output_type": "stream",
          "name": "stdout",
          "text": [
            "+-----------+\n",
            "|max(streak)|\n",
            "+-----------+\n",
            "|          7|\n",
            "+-----------+\n",
            "\n"
          ]
        }
      ]
    },
    {
      "cell_type": "code",
      "source": [
        "\n",
        "# create a row_number function partition by customer_id and order by date\n",
        "win_1 = Window.partitionBy(\"date\")\n",
        "\n",
        "df3 = df2.withColumn(\"rnk1\", row_number().over(win_1.orderBy(asc(\"date\"))))\n",
        "df3.show()"
      ],
      "metadata": {
        "colab": {
          "base_uri": "https://localhost:8080/"
        },
        "id": "qhLM_cYssw4D",
        "outputId": "e3e4c1af-c77a-4c8c-8396-7407e134336b"
      },
      "execution_count": null,
      "outputs": [
        {
          "output_type": "stream",
          "name": "stdout",
          "text": [
            "+----------+-----------+-----------+----------+\n",
            "|      date|customer_id|total_sales|row_number|\n",
            "+----------+-----------+-----------+----------+\n",
            "|2023-11-24|    CUST001|        150|         1|\n",
            "|2023-02-27|    CUST002|       1000|         1|\n",
            "|2023-01-13|    CUST003|         30|         1|\n",
            "|2023-05-21|    CUST004|        500|         1|\n",
            "|2023-05-06|    CUST005|        100|         1|\n",
            "|2023-04-25|    CUST006|         30|         1|\n",
            "|2023-03-13|    CUST007|         50|         1|\n",
            "|2023-02-22|    CUST008|        100|         1|\n",
            "|2023-12-13|    CUST009|        600|         1|\n",
            "|2023-10-07|    CUST010|        200|         1|\n",
            "|2023-02-14|    CUST011|        100|         1|\n",
            "|2023-10-30|    CUST012|         75|         1|\n",
            "|2023-08-05|    CUST013|       1500|         1|\n",
            "|2023-01-17|    CUST014|        120|         1|\n",
            "|2023-01-16|    CUST015|       2000|         1|\n",
            "|2023-02-17|    CUST016|       1500|         1|\n",
            "|2023-04-22|    CUST017|        100|         1|\n",
            "|2023-04-30|    CUST018|         50|         1|\n",
            "|2023-09-16|    CUST019|         50|         1|\n",
            "|2023-11-05|    CUST020|        900|         1|\n",
            "+----------+-----------+-----------+----------+\n",
            "only showing top 20 rows\n",
            "\n"
          ]
        }
      ]
    },
    {
      "cell_type": "code",
      "source": [
        "# create a threshold\n",
        "thres = 50;\n",
        "\n",
        "df4 = df3.filter(df3.total_sales >= thres)\n",
        "df5 = df4.withColumn(\"new_rnk\",row_number().over(win_1.orderBy(asc(\"date\")))).\\\n",
        "       withColumn(\"rnk_diff\", col(\"row_number\") - col(\"new_rnk\"))\n",
        "\n",
        "df5.sort([\"customer_id\",\"date\"], ascending = [True, False]).show()"
      ],
      "metadata": {
        "colab": {
          "base_uri": "https://localhost:8080/"
        },
        "id": "HMKR8HuQtJ2M",
        "outputId": "4a1a31ca-013f-4b01-fd97-fe4ec683c73a"
      },
      "execution_count": null,
      "outputs": [
        {
          "output_type": "stream",
          "name": "stdout",
          "text": [
            "+----------+-----------+-----------+----------+-------+--------+\n",
            "|      date|customer_id|total_sales|row_number|new_rnk|rnk_diff|\n",
            "+----------+-----------+-----------+----------+-------+--------+\n",
            "|2023-11-24|    CUST001|        150|         1|      1|       0|\n",
            "|2023-02-27|    CUST002|       1000|         1|      1|       0|\n",
            "|2023-05-21|    CUST004|        500|         1|      1|       0|\n",
            "|2023-05-06|    CUST005|        100|         1|      1|       0|\n",
            "|2023-03-13|    CUST007|         50|         1|      1|       0|\n",
            "|2023-02-22|    CUST008|        100|         1|      1|       0|\n",
            "|2023-12-13|    CUST009|        600|         1|      1|       0|\n",
            "|2023-10-07|    CUST010|        200|         1|      1|       0|\n",
            "|2023-02-14|    CUST011|        100|         1|      1|       0|\n",
            "|2023-10-30|    CUST012|         75|         1|      1|       0|\n",
            "|2023-08-05|    CUST013|       1500|         1|      1|       0|\n",
            "|2023-01-17|    CUST014|        120|         1|      1|       0|\n",
            "|2023-01-16|    CUST015|       2000|         1|      1|       0|\n",
            "|2023-02-17|    CUST016|       1500|         1|      1|       0|\n",
            "|2023-04-22|    CUST017|        100|         1|      1|       0|\n",
            "|2023-04-30|    CUST018|         50|         1|      1|       0|\n",
            "|2023-09-16|    CUST019|         50|         1|      1|       0|\n",
            "|2023-11-05|    CUST020|        900|         1|      1|       0|\n",
            "|2023-01-14|    CUST021|        500|         1|      1|       0|\n",
            "|2023-10-15|    CUST022|        100|         1|      1|       0|\n",
            "+----------+-----------+-----------+----------+-------+--------+\n",
            "only showing top 20 rows\n",
            "\n"
          ]
        }
      ]
    },
    {
      "cell_type": "code",
      "source": [
        "df5.groupBy(\"customer_id\").agg(max(\"rnk_diff\").alias(\"max_rnk_diff\")).show()"
      ],
      "metadata": {
        "colab": {
          "base_uri": "https://localhost:8080/"
        },
        "id": "2uYVO_L4uQ6a",
        "outputId": "6ba3c712-3e23-4e44-a77d-003b31c4a1af"
      },
      "execution_count": null,
      "outputs": [
        {
          "output_type": "stream",
          "name": "stdout",
          "text": [
            "+-----------+------------+\n",
            "|customer_id|max_rnk_diff|\n",
            "+-----------+------------+\n",
            "|    CUST001|           0|\n",
            "|    CUST002|           0|\n",
            "|    CUST004|           0|\n",
            "|    CUST005|           0|\n",
            "|    CUST007|           0|\n",
            "|    CUST008|           0|\n",
            "|    CUST009|           0|\n",
            "|    CUST010|           0|\n",
            "|    CUST011|           0|\n",
            "|    CUST012|           0|\n",
            "|    CUST013|           0|\n",
            "|    CUST014|           0|\n",
            "|    CUST015|           0|\n",
            "|    CUST016|           0|\n",
            "|    CUST017|           0|\n",
            "|    CUST018|           0|\n",
            "|    CUST019|           0|\n",
            "|    CUST020|           0|\n",
            "|    CUST021|           0|\n",
            "|    CUST022|           0|\n",
            "+-----------+------------+\n",
            "only showing top 20 rows\n",
            "\n"
          ]
        }
      ]
    }
  ]
}